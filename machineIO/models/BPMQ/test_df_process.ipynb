{
 "cells": [
  {
   "cell_type": "code",
   "execution_count": 1,
   "id": "99c3b79a-eae7-4cc1-a754-09aa7a2ce9b5",
   "metadata": {},
   "outputs": [],
   "source": [
    "import pandas as pd\n",
    "import numpy as np\n",
    "import matplotlib.pyplot as plt\n",
    "import os\n",
    "import pickle\n",
    "from BPMQ_model import raw2Q_processor"
   ]
  },
  {
   "cell_type": "code",
   "execution_count": 2,
   "id": "b542c971-6015-4a1a-ad8a-607a93dce4b4",
   "metadata": {},
   "outputs": [
    {
     "data": {
      "text/html": [
       "<div>\n",
       "<style scoped>\n",
       "    .dataframe tbody tr th:only-of-type {\n",
       "        vertical-align: middle;\n",
       "    }\n",
       "\n",
       "    .dataframe tbody tr th {\n",
       "        vertical-align: top;\n",
       "    }\n",
       "\n",
       "    .dataframe thead th {\n",
       "        text-align: right;\n",
       "    }\n",
       "</style>\n",
       "<table border=\"1\" class=\"dataframe\">\n",
       "  <thead>\n",
       "    <tr style=\"text-align: right;\">\n",
       "      <th></th>\n",
       "      <th>BDS_BTS:PSC2_D5496:I_CSET</th>\n",
       "      <th>BDS_BTS:PSQ_D5552:I_CSET</th>\n",
       "      <th>BDS_BTS:PSQ_D5501:I_RD</th>\n",
       "      <th>BDS_BTS:PSQ_D5552:I_RD</th>\n",
       "      <th>BDS_BTS:BPM_D5513:YPOS_RD</th>\n",
       "      <th>BDS_BTS:BPM_D5565:TISMAG161_2_RD</th>\n",
       "      <th>BDS_BTS:BPM_D5565:TISRAW4_RD</th>\n",
       "      <th>BDS_BTS:BPM_D5513:TISMAG161_2_RD</th>\n",
       "      <th>BDS_BTS:PSQ_D5509:I_RD</th>\n",
       "      <th>BDS_BTS:BPM_D5513:TISRAW3_RD</th>\n",
       "      <th>...</th>\n",
       "      <th>BDS_BTS:PSC2_D5563:I_RD</th>\n",
       "      <th>BDS_BTS:BPM_D5565:MAG_RD</th>\n",
       "      <th>BDS_BTS:BPM_D5565:XPOS_RD</th>\n",
       "      <th>BDS_BTS:BPM_D5513:XPOS_RD</th>\n",
       "      <th>BDS_BTS:PSC1_D5496:I_CSET</th>\n",
       "      <th>BDS_BTS:PSQ_D5501:I_CSET</th>\n",
       "      <th>BDS_BTS:BPM_D5513:TISRAW1_RD</th>\n",
       "      <th>BDS_BTS:BPM_D5565:TISRAW1_RD</th>\n",
       "      <th>BDS_BTS:BPM_D5513:TISMAG161_4_RD</th>\n",
       "      <th>BDS_BTS:BPM_D5565:TISRAW2_RD</th>\n",
       "    </tr>\n",
       "  </thead>\n",
       "  <tbody>\n",
       "    <tr>\n",
       "      <th>2025-02-19 03:31:39.800</th>\n",
       "      <td>0.0</td>\n",
       "      <td>113.825</td>\n",
       "      <td>96.76</td>\n",
       "      <td>113.736</td>\n",
       "      <td>-0.200405</td>\n",
       "      <td>47.697038</td>\n",
       "      <td>[2353.3823529411766, 1561.5, 444.3823529411764...</td>\n",
       "      <td>56.274298</td>\n",
       "      <td>84.303</td>\n",
       "      <td>[-1870.735294117647, -1735.7058823529412, -128...</td>\n",
       "      <td>...</td>\n",
       "      <td>0.0</td>\n",
       "      <td>0.003281</td>\n",
       "      <td>0.183723</td>\n",
       "      <td>0.395098</td>\n",
       "      <td>-13.43</td>\n",
       "      <td>96.859</td>\n",
       "      <td>[-1776.8529411764707, -1589.0294117647059, -10...</td>\n",
       "      <td>[1993.7058823529412, 1370.3235294117646, 459.7...</td>\n",
       "      <td>42.895729</td>\n",
       "      <td>[2212.9117647058824, 1474.3235294117646, 414.9...</td>\n",
       "    </tr>\n",
       "    <tr>\n",
       "      <th>2025-02-19 03:31:40.000</th>\n",
       "      <td>0.0</td>\n",
       "      <td>113.825</td>\n",
       "      <td>96.76</td>\n",
       "      <td>113.744</td>\n",
       "      <td>-0.195964</td>\n",
       "      <td>47.697038</td>\n",
       "      <td>[2353.3823529411766, 1561.5, 444.3823529411764...</td>\n",
       "      <td>56.274298</td>\n",
       "      <td>84.303</td>\n",
       "      <td>[-1870.735294117647, -1735.7058823529412, -128...</td>\n",
       "      <td>...</td>\n",
       "      <td>0.0</td>\n",
       "      <td>0.003366</td>\n",
       "      <td>0.131196</td>\n",
       "      <td>0.349518</td>\n",
       "      <td>-13.43</td>\n",
       "      <td>96.859</td>\n",
       "      <td>[-1776.8529411764707, -1589.0294117647059, -10...</td>\n",
       "      <td>[1993.7058823529412, 1370.3235294117646, 459.7...</td>\n",
       "      <td>42.895729</td>\n",
       "      <td>[2212.9117647058824, 1474.3235294117646, 414.9...</td>\n",
       "    </tr>\n",
       "  </tbody>\n",
       "</table>\n",
       "<p>2 rows × 42 columns</p>\n",
       "</div>"
      ],
      "text/plain": [
       "                         BDS_BTS:PSC2_D5496:I_CSET  BDS_BTS:PSQ_D5552:I_CSET  \\\n",
       "2025-02-19 03:31:39.800                        0.0                   113.825   \n",
       "2025-02-19 03:31:40.000                        0.0                   113.825   \n",
       "\n",
       "                         BDS_BTS:PSQ_D5501:I_RD  BDS_BTS:PSQ_D5552:I_RD  \\\n",
       "2025-02-19 03:31:39.800                   96.76                 113.736   \n",
       "2025-02-19 03:31:40.000                   96.76                 113.744   \n",
       "\n",
       "                         BDS_BTS:BPM_D5513:YPOS_RD  \\\n",
       "2025-02-19 03:31:39.800                  -0.200405   \n",
       "2025-02-19 03:31:40.000                  -0.195964   \n",
       "\n",
       "                         BDS_BTS:BPM_D5565:TISMAG161_2_RD  \\\n",
       "2025-02-19 03:31:39.800                         47.697038   \n",
       "2025-02-19 03:31:40.000                         47.697038   \n",
       "\n",
       "                                              BDS_BTS:BPM_D5565:TISRAW4_RD  \\\n",
       "2025-02-19 03:31:39.800  [2353.3823529411766, 1561.5, 444.3823529411764...   \n",
       "2025-02-19 03:31:40.000  [2353.3823529411766, 1561.5, 444.3823529411764...   \n",
       "\n",
       "                         BDS_BTS:BPM_D5513:TISMAG161_2_RD  \\\n",
       "2025-02-19 03:31:39.800                         56.274298   \n",
       "2025-02-19 03:31:40.000                         56.274298   \n",
       "\n",
       "                         BDS_BTS:PSQ_D5509:I_RD  \\\n",
       "2025-02-19 03:31:39.800                  84.303   \n",
       "2025-02-19 03:31:40.000                  84.303   \n",
       "\n",
       "                                              BDS_BTS:BPM_D5513:TISRAW3_RD  \\\n",
       "2025-02-19 03:31:39.800  [-1870.735294117647, -1735.7058823529412, -128...   \n",
       "2025-02-19 03:31:40.000  [-1870.735294117647, -1735.7058823529412, -128...   \n",
       "\n",
       "                         ...  BDS_BTS:PSC2_D5563:I_RD  \\\n",
       "2025-02-19 03:31:39.800  ...                      0.0   \n",
       "2025-02-19 03:31:40.000  ...                      0.0   \n",
       "\n",
       "                         BDS_BTS:BPM_D5565:MAG_RD  BDS_BTS:BPM_D5565:XPOS_RD  \\\n",
       "2025-02-19 03:31:39.800                  0.003281                   0.183723   \n",
       "2025-02-19 03:31:40.000                  0.003366                   0.131196   \n",
       "\n",
       "                         BDS_BTS:BPM_D5513:XPOS_RD  BDS_BTS:PSC1_D5496:I_CSET  \\\n",
       "2025-02-19 03:31:39.800                   0.395098                     -13.43   \n",
       "2025-02-19 03:31:40.000                   0.349518                     -13.43   \n",
       "\n",
       "                         BDS_BTS:PSQ_D5501:I_CSET  \\\n",
       "2025-02-19 03:31:39.800                    96.859   \n",
       "2025-02-19 03:31:40.000                    96.859   \n",
       "\n",
       "                                              BDS_BTS:BPM_D5513:TISRAW1_RD  \\\n",
       "2025-02-19 03:31:39.800  [-1776.8529411764707, -1589.0294117647059, -10...   \n",
       "2025-02-19 03:31:40.000  [-1776.8529411764707, -1589.0294117647059, -10...   \n",
       "\n",
       "                                              BDS_BTS:BPM_D5565:TISRAW1_RD  \\\n",
       "2025-02-19 03:31:39.800  [1993.7058823529412, 1370.3235294117646, 459.7...   \n",
       "2025-02-19 03:31:40.000  [1993.7058823529412, 1370.3235294117646, 459.7...   \n",
       "\n",
       "                         BDS_BTS:BPM_D5513:TISMAG161_4_RD  \\\n",
       "2025-02-19 03:31:39.800                         42.895729   \n",
       "2025-02-19 03:31:40.000                         42.895729   \n",
       "\n",
       "                                              BDS_BTS:BPM_D5565:TISRAW2_RD  \n",
       "2025-02-19 03:31:39.800  [2212.9117647058824, 1474.3235294117646, 414.9...  \n",
       "2025-02-19 03:31:40.000  [2212.9117647058824, 1474.3235294117646, 414.9...  \n",
       "\n",
       "[2 rows x 42 columns]"
      ]
     },
     "execution_count": 2,
     "metadata": {},
     "output_type": "execute_result"
    }
   ],
   "source": [
    "df = pd.DataFrame(pickle.load(open('test.pkl','rb')))\n",
    "df = df.iloc[:2]\n",
    "df"
   ]
  },
  {
   "cell_type": "code",
   "execution_count": 3,
   "id": "90ba3711-3f10-4cca-9364-3bb59630a778",
   "metadata": {},
   "outputs": [],
   "source": [
    "BPM_names = [\"BDS_BTS:BPM_D5513\",\"BDS_BTS:BPM_D5565\"]\n",
    "raw2Q = raw2Q_processor(BPM_names=BPM_names, model_type='TIS161_GP')\n",
    "output = raw2Q(df)"
   ]
  },
  {
   "cell_type": "code",
   "execution_count": 4,
   "id": "a028513a-9cfa-4ab5-bf10-a79377123483",
   "metadata": {},
   "outputs": [
    {
     "data": {
      "text/plain": [
       "2025-02-19 03:31:39.800    0.183723\n",
       "2025-02-19 03:31:40.000    0.131196\n",
       "Name: BDS_BTS:BPM_D5565:XPOS_RD, dtype: float64"
      ]
     },
     "execution_count": 4,
     "metadata": {},
     "output_type": "execute_result"
    }
   ],
   "source": [
    "df[\"BDS_BTS:BPM_D5565:XPOS_RD\"]"
   ]
  },
  {
   "cell_type": "code",
   "execution_count": 5,
   "id": "d454d86b-be57-4c2b-af5b-399a55cffd08",
   "metadata": {},
   "outputs": [
    {
     "data": {
      "text/plain": [
       "array([0.99701186, 0.99701186])"
      ]
     },
     "execution_count": 5,
     "metadata": {},
     "output_type": "execute_result"
    }
   ],
   "source": [
    "output[\"BDS_BTS:BPM_D5513:beamQ_model_err\"].values"
   ]
  },
  {
   "cell_type": "code",
   "execution_count": null,
   "id": "aea3466c-52a9-409b-b871-245e1c2ca9d4",
   "metadata": {},
   "outputs": [],
   "source": []
  },
  {
   "cell_type": "code",
   "execution_count": null,
   "id": "9258eaf7-cede-4ebb-9076-0380e634f658",
   "metadata": {},
   "outputs": [],
   "source": []
  }
 ],
 "metadata": {
  "kernelspec": {
   "display_name": "Python 3 (ipykernel)",
   "language": "python",
   "name": "python3"
  },
  "language_info": {
   "codemirror_mode": {
    "name": "ipython",
    "version": 3
   },
   "file_extension": ".py",
   "mimetype": "text/x-python",
   "name": "python",
   "nbconvert_exporter": "python",
   "pygments_lexer": "ipython3",
   "version": "3.11.2"
  }
 },
 "nbformat": 4,
 "nbformat_minor": 5
}
